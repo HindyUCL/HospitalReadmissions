{
 "cells": [
  {
   "cell_type": "markdown",
   "metadata": {},
   "source": [
    "### LSTM NN "
   ]
  },
  {
   "cell_type": "markdown",
   "metadata": {},
   "source": [
    "In this notebook, we implement LSTM Neural Network for our classification task, seeing whether it is capable of outperforming our traditional ML models (Random Forest, XGBoost, etc.).\n",
    "Our motivation for testing such type of model comes from its ability to capture long-term dependencies in time series data, which is a key feature of our dataset. Additionally, a large amount of papers read on the topic where aimig at assessing whether LSTM models would perform better than traditional ML models. These papers had opposing conclusions. In order to discernate, we will conduct the experiment ourselves. \n",
    "\n",
    "\"\"\""
   ]
  },
  {
   "cell_type": "code",
   "execution_count": 2,
   "metadata": {},
   "outputs": [
    {
     "name": "stdout",
     "output_type": "stream",
     "text": [
      "Num GPUs Available:  1\n"
     ]
    }
   ],
   "source": [
    "import pandas as pd\n",
    "import numpy as np\n",
    "import tensorflow as tf\n",
    "from tensorflow.keras.models import Sequential\n",
    "from tensorflow.keras.layers import LSTM, Dense, Dropout, Masking\n",
    "from tensorflow.keras.callbacks import EarlyStopping\n",
    "\n",
    "# Enable MPS acceleration for Apple Silicon\n",
    "tf.config.set_visible_devices([], 'GPU')  # To ensure it uses the MPS backend\n",
    "print(\"Num GPUs Available: \", len(tf.config.experimental.list_physical_devices('GPU')))"
   ]
  },
  {
   "cell_type": "markdown",
   "metadata": {},
   "source": [
    "### Import the data and Prepare the data"
   ]
  },
  {
   "cell_type": "code",
   "execution_count": 3,
   "metadata": {},
   "outputs": [
    {
     "name": "stdout",
     "output_type": "stream",
     "text": [
      "(91589, 71)\n"
     ]
    }
   ],
   "source": [
    "from re import X\n",
    "import pandas as pd\n",
    "import numpy as np\n",
    "\n",
    "# load my datasets\n",
    "df_train_temp = pd.read_csv('Dataset/Final_train__wo_dataset.csv')\n",
    "df_train_temp.head()\n",
    "print(df_train_temp.shape)\n"
   ]
  },
  {
   "cell_type": "code",
   "execution_count": 4,
   "metadata": {},
   "outputs": [
    {
     "name": "stdout",
     "output_type": "stream",
     "text": [
      "Columns with missing values and their counts:\n",
      "PC1     18318\n",
      "PC2     18318\n",
      "PC3     18318\n",
      "PC4     18318\n",
      "PC5     18318\n",
      "        ...  \n",
      "PC64    18318\n",
      "PC65    18318\n",
      "PC66    18318\n",
      "PC67    18318\n",
      "PC68    18318\n",
      "Length: 68, dtype: int64\n"
     ]
    }
   ],
   "source": [
    "# Check for missing values in the entire dataset\n",
    "missing_values = df_train_temp.isnull().sum()\n",
    "\n",
    "# Display columns with missing values\n",
    "missing_values = missing_values[missing_values > 0]\n",
    "\n",
    "print(\"Columns with missing values and their counts:\")\n",
    "print(missing_values)"
   ]
  },
  {
   "cell_type": "markdown",
   "metadata": {},
   "source": [
    "I DO NOT KNOW WHY A LOT OF COLUMNS HAVE MISSING VALUES IN THE DATASET. THERE SHOULD NOT BE ANY MISSING VALUES FOR THE Patinet_nmbr and Encounter_ids...\n"
   ]
  },
  {
   "cell_type": "code",
   "execution_count": 1,
   "metadata": {},
   "outputs": [
    {
     "ename": "NameError",
     "evalue": "name 'df_train_temp' is not defined",
     "output_type": "error",
     "traceback": [
      "\u001b[0;31m---------------------------------------------------------------------------\u001b[0m",
      "\u001b[0;31mNameError\u001b[0m                                 Traceback (most recent call last)",
      "Cell \u001b[0;32mIn[1], line 5\u001b[0m\n\u001b[1;32m      2\u001b[0m \u001b[38;5;28;01mimport\u001b[39;00m \u001b[38;5;21;01mnumpy\u001b[39;00m \u001b[38;5;28;01mas\u001b[39;00m \u001b[38;5;21;01mnp\u001b[39;00m\n\u001b[1;32m      4\u001b[0m \u001b[38;5;66;03m# Add a new column \"TOREMOVE\" with random values 0, 1, or 2\u001b[39;00m\n\u001b[0;32m----> 5\u001b[0m df_train_temp[\u001b[38;5;124m'\u001b[39m\u001b[38;5;124mTOREMOVE\u001b[39m\u001b[38;5;124m'\u001b[39m] \u001b[38;5;241m=\u001b[39m np\u001b[38;5;241m.\u001b[39mrandom\u001b[38;5;241m.\u001b[39mchoice([\u001b[38;5;241m0\u001b[39m, \u001b[38;5;241m1\u001b[39m, \u001b[38;5;241m2\u001b[39m], size\u001b[38;5;241m=\u001b[39m\u001b[38;5;28mlen\u001b[39m(df_train_temp))\n\u001b[1;32m      7\u001b[0m \u001b[38;5;28mprint\u001b[39m(df_train_temp\u001b[38;5;241m.\u001b[39mshape)\n\u001b[1;32m      8\u001b[0m df_train_temp\u001b[38;5;241m.\u001b[39mhead()\n",
      "\u001b[0;31mNameError\u001b[0m: name 'df_train_temp' is not defined"
     ]
    }
   ],
   "source": [
    "# THIS CODE IS JUST TO TEST THE MODEL, WAITING FOR VIDUR\n",
    "import numpy as np\n",
    "\n",
    "# Add a new column \"TOREMOVE\" with random values 0, 1, or 2\n",
    "df_train_temp['TOREMOVE'] = np.random.choice([0, 1, 2], size=len(df_train_temp))\n",
    "\n",
    "print(df_train_temp.shape)\n",
    "df_train_temp.head()\n"
   ]
  },
  {
   "cell_type": "code",
   "execution_count": 22,
   "metadata": {},
   "outputs": [
    {
     "name": "stdout",
     "output_type": "stream",
     "text": [
      "Shape of X (input sequences): (25657, 38, 69)\n",
      "Shape of Y (targets): (25657,)\n",
      "Unique values in Y (targets): [0 1 2]\n"
     ]
    }
   ],
   "source": [
    "import numpy as np\n",
    "import pandas as pd\n",
    "from tensorflow.keras.preprocessing.sequence import pad_sequences\n",
    "\n",
    "# Assuming 'df_train_temp' is your training dataset\n",
    "# Sort the data by Patient_ID and Timestamp\n",
    "df_train_temp = df_train_temp.sort_values(by=['patient_nbr', 'timestep']).reset_index(drop=True)\n",
    "\n",
    "# Identify temporal and feature columns\n",
    "temporal_columns = ['patient_nbr', 'timestep']  # Adjust if necessary\n",
    "target_column = 'TOREMOVE'  # Replace with the actual target column name\n",
    "feature_columns = df_train_temp.columns.difference(temporal_columns + [target_column])\n",
    "\n",
    "# Initialize lists for sequences\n",
    "X = []  # Input sequences\n",
    "Y = []  # Targets (readmission status)\n",
    "\n",
    "# Group by Patient_ID and process each patient's data\n",
    "grouped = df_train_temp.groupby('patient_nbr')\n",
    "\n",
    "for _, group in grouped:\n",
    "    features = group[feature_columns].values  # Extract feature values for the group\n",
    "    targets = group[target_column].values     # Extract target values for the group\n",
    "    num_timesteps = len(features)\n",
    "    \n",
    "    # Create sequences with varying lengths\n",
    "    for i in range(num_timesteps - 1):  # Leave the last row for Y\n",
    "        X.append(features[:i+1])  # Sequence up to the current timestep\n",
    "        Y.append(targets[i+1])    # The target for the next timestep\n",
    "\n",
    "# Pad sequences to the same length for LSTM input\n",
    "max_sequence_length = max(len(seq) for seq in X)  # Determine the maximum sequence length\n",
    "X_padded = pad_sequences(X, maxlen=max_sequence_length, dtype='float32', padding='post')\n",
    "\n",
    "# Convert Y to numpy array\n",
    "Y = np.array(Y)\n",
    "\n",
    "# Verify target values are as expected (0, 1, 2)\n",
    "unique_targets = np.unique(Y)\n",
    "if not set(unique_targets).issubset({0, 1, 2}):\n",
    "    raise ValueError(f\"Target column contains invalid values: {unique_targets}. Expected values: 0, 1, 2.\")\n",
    "\n",
    "# Display shapes\n",
    "print(\"Shape of X (input sequences):\", X_padded.shape)\n",
    "print(\"Shape of Y (targets):\", Y.shape)\n",
    "print(\"Unique values in Y (targets):\", unique_targets)"
   ]
  },
  {
   "cell_type": "code",
   "execution_count": 23,
   "metadata": {},
   "outputs": [
    {
     "name": "stdout",
     "output_type": "stream",
     "text": [
      "   PC1  PC10  PC11  PC12  PC13  PC14  PC15  PC16  PC17  PC18  ...  PC63  PC64  \\\n",
      "0  NaN   NaN   NaN   NaN   NaN   NaN   NaN   NaN   NaN   NaN  ...   NaN   NaN   \n",
      "\n",
      "   PC65  PC66  PC67  PC68  PC7  PC8  PC9  encounter_id  \n",
      "0   NaN   NaN   NaN   NaN  NaN  NaN  NaN      24437208  \n",
      "\n",
      "[1 rows x 69 columns]\n",
      "0    0\n",
      "Name: TOREMOVE, dtype: int64\n"
     ]
    }
   ],
   "source": [
    "# Example: Inspect sequences for a specific patient\n",
    "patient_id = df_train_temp['patient_nbr'].iloc[0]  # Take the first patient\n",
    "group = df_train_temp[df_train_temp['patient_nbr'] == patient_id]\n",
    "\n",
    "# Check the sequences created for this patient\n",
    "print(group[feature_columns])\n",
    "print(group[target_column])"
   ]
  },
  {
   "cell_type": "code",
   "execution_count": 6,
   "metadata": {},
   "outputs": [
    {
     "name": "stdout",
     "output_type": "stream",
     "text": [
      "Training set shape: (20525, 38, 69), (20525,)\n",
      "Testing set shape: (5132, 38, 69), (5132,)\n"
     ]
    }
   ],
   "source": [
    "from sklearn.model_selection import train_test_split\n",
    "\n",
    "# X_test and T_test are in reality the validation set\n",
    "X_train, X_test, Y_train, Y_test = train_test_split(X_padded, Y, test_size=0.15, random_state=42)\n",
    "\n",
    "print(f\"Training set shape: {X_train.shape}, {Y_train.shape}\")\n",
    "print(f\"Testing set shape: {X_test.shape}, {Y_test.shape}\")"
   ]
  },
  {
   "cell_type": "code",
   "execution_count": 7,
   "metadata": {},
   "outputs": [
    {
     "name": "stdout",
     "output_type": "stream",
     "text": [
      "Shape of Y_train_encoded: (20525, 3)\n",
      "Shape of Y_test_encoded: (5132, 3)\n"
     ]
    }
   ],
   "source": [
    "from tensorflow.keras.utils import to_categorical\n",
    "\n",
    "# One-hot encode the target labels 0,1,2 (there was no need to label encode the strings values of the classes)\n",
    "Y_train_encoded = to_categorical(Y_train, num_classes=3)\n",
    "Y_test_encoded = to_categorical(Y_test, num_classes=3)\n",
    "\n",
    "print(\"Shape of Y_train_encoded:\", Y_train_encoded.shape)\n",
    "print(\"Shape of Y_test_encoded:\", Y_test_encoded.shape)"
   ]
  },
  {
   "cell_type": "code",
   "execution_count": 8,
   "metadata": {},
   "outputs": [
    {
     "name": "stdout",
     "output_type": "stream",
     "text": [
      "Model: \"sequential\"\n",
      "_________________________________________________________________\n",
      " Layer (type)                Output Shape              Param #   \n",
      "=================================================================\n",
      " lstm (LSTM)                 (None, 50)                24000     \n",
      "                                                                 \n",
      " dropout (Dropout)           (None, 50)                0         \n",
      "                                                                 \n",
      " dense (Dense)               (None, 50)                2550      \n",
      "                                                                 \n",
      " dense_1 (Dense)             (None, 3)                 153       \n",
      "                                                                 \n",
      "=================================================================\n",
      "Total params: 26703 (104.31 KB)\n",
      "Trainable params: 26703 (104.31 KB)\n",
      "Non-trainable params: 0 (0.00 Byte)\n",
      "_________________________________________________________________\n",
      "None\n"
     ]
    }
   ],
   "source": [
    "from tensorflow.keras.models import Sequential\n",
    "from tensorflow.keras.layers import LSTM, Dense, Dropout\n",
    "\n",
    "# Define the LSTM model\n",
    "model = Sequential()\n",
    "model.add(LSTM(50, input_shape=(X_train.shape[1], X_train.shape[2]), return_sequences=False))\n",
    "model.add(Dropout(0.2))  # Dropout to reduce overfitting\n",
    "model.add(Dense(50, activation='relu'))\n",
    "model.add(Dense(3, activation='softmax'))  # 3 classes (0, 1, 2)\n",
    "\n",
    "# Compile the model\n",
    "model.compile(optimizer='adam', loss='categorical_crossentropy', metrics=['accuracy'])\n",
    "\n",
    "print(model.summary())"
   ]
  },
  {
   "cell_type": "code",
   "execution_count": 9,
   "metadata": {},
   "outputs": [
    {
     "name": "stdout",
     "output_type": "stream",
     "text": [
      "Epoch 1/20\n",
      "642/642 [==============================] - 5s 6ms/step - loss: nan - accuracy: 0.3333 - val_loss: nan - val_accuracy: 0.3350\n",
      "Epoch 2/20\n",
      "642/642 [==============================] - 3s 5ms/step - loss: nan - accuracy: 0.3331 - val_loss: nan - val_accuracy: 0.3350\n",
      "Epoch 3/20\n",
      "642/642 [==============================] - 4s 6ms/step - loss: nan - accuracy: 0.3331 - val_loss: nan - val_accuracy: 0.3350\n",
      "Epoch 4/20\n",
      "642/642 [==============================] - 4s 5ms/step - loss: nan - accuracy: 0.3331 - val_loss: nan - val_accuracy: 0.3350\n",
      "Epoch 5/20\n",
      "642/642 [==============================] - 3s 5ms/step - loss: nan - accuracy: 0.3331 - val_loss: nan - val_accuracy: 0.3350\n",
      "Epoch 6/20\n",
      "642/642 [==============================] - 4s 6ms/step - loss: nan - accuracy: 0.3331 - val_loss: nan - val_accuracy: 0.3350\n",
      "Epoch 7/20\n",
      "642/642 [==============================] - 4s 6ms/step - loss: nan - accuracy: 0.3331 - val_loss: nan - val_accuracy: 0.3350\n",
      "Epoch 8/20\n",
      "642/642 [==============================] - 4s 6ms/step - loss: nan - accuracy: 0.3331 - val_loss: nan - val_accuracy: 0.3350\n",
      "Epoch 9/20\n",
      "642/642 [==============================] - 4s 6ms/step - loss: nan - accuracy: 0.3331 - val_loss: nan - val_accuracy: 0.3350\n",
      "Epoch 10/20\n",
      "642/642 [==============================] - 4s 6ms/step - loss: nan - accuracy: 0.3331 - val_loss: nan - val_accuracy: 0.3350\n",
      "Epoch 11/20\n",
      "642/642 [==============================] - 4s 6ms/step - loss: nan - accuracy: 0.3331 - val_loss: nan - val_accuracy: 0.3350\n",
      "Epoch 12/20\n",
      "642/642 [==============================] - 4s 6ms/step - loss: nan - accuracy: 0.3331 - val_loss: nan - val_accuracy: 0.3350\n",
      "Epoch 13/20\n",
      "642/642 [==============================] - 4s 6ms/step - loss: nan - accuracy: 0.3331 - val_loss: nan - val_accuracy: 0.3350\n",
      "Epoch 14/20\n",
      "642/642 [==============================] - 4s 6ms/step - loss: nan - accuracy: 0.3331 - val_loss: nan - val_accuracy: 0.3350\n",
      "Epoch 15/20\n",
      "642/642 [==============================] - 4s 6ms/step - loss: nan - accuracy: 0.3331 - val_loss: nan - val_accuracy: 0.3350\n",
      "Epoch 16/20\n",
      "642/642 [==============================] - 4s 6ms/step - loss: nan - accuracy: 0.3331 - val_loss: nan - val_accuracy: 0.3350\n",
      "Epoch 17/20\n",
      "642/642 [==============================] - 4s 5ms/step - loss: nan - accuracy: 0.3331 - val_loss: nan - val_accuracy: 0.3350\n",
      "Epoch 18/20\n",
      "642/642 [==============================] - 4s 6ms/step - loss: nan - accuracy: 0.3331 - val_loss: nan - val_accuracy: 0.3350\n",
      "Epoch 19/20\n",
      "642/642 [==============================] - 4s 6ms/step - loss: nan - accuracy: 0.3331 - val_loss: nan - val_accuracy: 0.3350\n",
      "Epoch 20/20\n",
      "642/642 [==============================] - 4s 6ms/step - loss: nan - accuracy: 0.3331 - val_loss: nan - val_accuracy: 0.3350\n"
     ]
    }
   ],
   "source": [
    "history = model.fit(X_train, Y_train_encoded, \n",
    "                    validation_data=(X_test, Y_test_encoded), \n",
    "                    epochs=1000, \n",
    "                    batch_size=32, \n",
    "                    verbose=1)"
   ]
  },
  {
   "cell_type": "code",
   "execution_count": 10,
   "metadata": {},
   "outputs": [
    {
     "name": "stdout",
     "output_type": "stream",
     "text": [
      "161/161 [==============================] - 0s 2ms/step - loss: nan - accuracy: 0.3350\n",
      "Test Loss: nan\n",
      "Test Accuracy: 0.3349571228027344\n"
     ]
    }
   ],
   "source": [
    "loss, accuracy = model.evaluate(X_test, Y_test_encoded, verbose=1)\n",
    "print(f\"Test Loss: {loss}\")\n",
    "print(f\"Test Accuracy: {accuracy}\")"
   ]
  },
  {
   "cell_type": "code",
   "execution_count": 11,
   "metadata": {},
   "outputs": [
    {
     "data": {
      "image/png": "[encoded data removed]",
      "text/plain": [
       "<Figure size 1000x600 with 1 Axes>"
      ]
     },
     "metadata": {},
     "output_type": "display_data"
    },
    {
     "data": {
      "image/png": "[encoded data removed]",
      "text/plain": [
       "<Figure size 1000x600 with 1 Axes>"
      ]
     },
     "metadata": {},
     "output_type": "display_data"
    }
   ],
   "source": [
    "import matplotlib.pyplot as plt\n",
    "\n",
    "# Plot accuracy\n",
    "plt.figure(figsize=(10, 6))\n",
    "plt.plot(history.history['accuracy'], label='Training Accuracy')\n",
    "plt.plot(history.history['val_accuracy'], label='Validation Accuracy')\n",
    "plt.title('Model Accuracy')\n",
    "plt.xlabel('Epochs')\n",
    "plt.ylabel('Accuracy')\n",
    "plt.legend()\n",
    "plt.show()\n",
    "\n",
    "# Plot loss\n",
    "plt.figure(figsize=(10, 6))\n",
    "plt.plot(history.history['loss'], label='Training Loss')\n",
    "plt.plot(history.history['val_loss'], label='Validation Loss')\n",
    "plt.title('Model Loss')\n",
    "plt.xlabel('Epochs')\n",
    "plt.ylabel('Loss')\n",
    "plt.legend()\n",
    "plt.show()"
   ]
  },
  {
   "cell_type": "code",
   "execution_count": 14,
   "metadata": {},
   "outputs": [
    {
     "name": "stdout",
     "output_type": "stream",
     "text": [
      "161/161 [==============================] - 0s 2ms/step\n",
      "Predicted Classes: [0 0 0 0 0 0 0 0 0 0]\n",
      "True Classes: [0 1 0 1 0 0 2 0 1 1]\n",
      "Classification Report:\n",
      "              precision    recall  f1-score   support\n",
      "\n",
      "           0       0.33      1.00      0.50      1719\n",
      "           1       0.00      0.00      0.00      1748\n",
      "           2       0.00      0.00      0.00      1665\n",
      "\n",
      "    accuracy                           0.33      5132\n",
      "   macro avg       0.11      0.33      0.17      5132\n",
      "weighted avg       0.11      0.33      0.17      5132\n",
      "\n",
      "Confusion Matrix:\n",
      "[[1719    0    0]\n",
      " [1748    0    0]\n",
      " [1665    0    0]]\n"
     ]
    },
    {
     "name": "stderr",
     "output_type": "stream",
     "text": [
      "/Users/hindy/anaconda3/lib/python3.11/site-packages/sklearn/metrics/_classification.py:1469: UndefinedMetricWarning: Precision and F-score are ill-defined and being set to 0.0 in labels with no predicted samples. Use `zero_division` parameter to control this behavior.\n",
      "  _warn_prf(average, modifier, msg_start, len(result))\n",
      "/Users/hindy/anaconda3/lib/python3.11/site-packages/sklearn/metrics/_classification.py:1469: UndefinedMetricWarning: Precision and F-score are ill-defined and being set to 0.0 in labels with no predicted samples. Use `zero_division` parameter to control this behavior.\n",
      "  _warn_prf(average, modifier, msg_start, len(result))\n",
      "/Users/hindy/anaconda3/lib/python3.11/site-packages/sklearn/metrics/_classification.py:1469: UndefinedMetricWarning: Precision and F-score are ill-defined and being set to 0.0 in labels with no predicted samples. Use `zero_division` parameter to control this behavior.\n",
      "  _warn_prf(average, modifier, msg_start, len(result))\n"
     ]
    }
   ],
   "source": [
    "Y_pred = model.predict(X_test)\n",
    "Y_pred_classes = np.argmax(Y_pred, axis=1)  # Convert probabilities to class labels\n",
    "\n",
    "print(\"Predicted Classes:\", Y_pred_classes[:10])\n",
    "print(\"True Classes:\", Y_test[:10])\n",
    "\n",
    "from sklearn.metrics import classification_report, confusion_matrix\n",
    "\n",
    "print(\"Classification Report:\")\n",
    "print(classification_report(Y_test, Y_pred_classes))\n",
    "\n",
    "print(\"Confusion Matrix:\")\n",
    "print(confusion_matrix(Y_test, Y_pred_classes))"
   ]
  },
  {
   "cell_type": "markdown",
   "metadata": {},
   "source": [
    "1. Baseline LSTM model\n"
   ]
  },
  {
   "cell_type": "code",
   "execution_count": null,
   "metadata": {},
   "outputs": [],
   "source": [
    "# # Define LSTM model\n",
    "# model = Sequential([\n",
    "#     Masking(mask_value=-1, input_shape=(X.shape[1], X.shape[2])),  # Handle padded/missing values\n",
    "#     LSTM(128, return_sequences=False),\n",
    "#     Dropout(0.3),\n",
    "#     Dense(64, activation='relu'),\n",
    "#     Dropout(0.3),\n",
    "#     Dense(y.shape[1], activation='softmax')  # Output layer for multi-class classification\n",
    "# ])\n",
    "\n",
    "# # Compile the model\n",
    "# model.compile(\n",
    "#     optimizer='adam',\n",
    "#     loss='categorical_crossentropy',\n",
    "#     metrics=['accuracy']\n",
    "# )\n",
    "\n",
    "# model.summary()"
   ]
  },
  {
   "cell_type": "markdown",
   "metadata": {},
   "source": [
    "Training"
   ]
  },
  {
   "cell_type": "code",
   "execution_count": null,
   "metadata": {},
   "outputs": [],
   "source": [
    "# Split the data into training and validation sets\n",
    "from sklearn.model_selection import train_test_split\n",
    "\n",
    "X_train, X_val, y_train, y_val = train_test_split(X, y, test_size=0.2, random_state=42)\n",
    "\n",
    "# Define early stopping\n",
    "early_stopping = EarlyStopping(\n",
    "    monitor='val_loss', \n",
    "    patience=5, \n",
    "    restore_best_weights=True\n",
    ")\n",
    "\n",
    "# Train the model\n",
    "history = model.fit(\n",
    "    X_train, y_train,\n",
    "    validation_data=(X_val, y_val),\n",
    "    epochs=50,\n",
    "    batch_size=128,\n",
    "    callbacks=[early_stopping]\n",
    ")"
   ]
  },
  {
   "cell_type": "markdown",
   "metadata": {},
   "source": [
    "Evaluation\n",
    "\n"
   ]
  },
  {
   "cell_type": "code",
   "execution_count": null,
   "metadata": {},
   "outputs": [],
   "source": [
    "# Evaluate on validation set\n",
    "val_loss, val_accuracy = model.evaluate(X_val, y_val)\n",
    "print(f\"Validation Loss: {val_loss}\")\n",
    "print(f\"Validation Accuracy: {val_accuracy}\")"
   ]
  },
  {
   "cell_type": "code",
   "execution_count": null,
   "metadata": {},
   "outputs": [],
   "source": [
    "# Save the model\n",
    "model.save('lstm_readmission_model.h5')\n",
    "\n",
    "# Load the model\n",
    "from tensorflow.keras.models import load_model\n",
    "loaded_model = load_model('lstm_readmission_model.h5')"
   ]
  },
  {
   "cell_type": "markdown",
   "metadata": {},
   "source": [
    "2. Stacked Bidirectional LSTMs with Recurrent Dropout and L2 Regularization\n",
    "\n",
    "This model uses:\n",
    "\t•\tBidirectional LSTM layers to capture both forward and backward temporal dependencies.\n",
    "\t•\tStacked LSTMs to increase the model’s capacity.\n",
    "\t•\tRecurrent dropout to prevent overfitting.\n",
    "\t•\tL2 regularization for dense layers to improve generalization."
   ]
  },
  {
   "cell_type": "code",
   "execution_count": 8,
   "metadata": {},
   "outputs": [
    {
     "ename": "SyntaxError",
     "evalue": "invalid syntax (1954762761.py, line 1)",
     "output_type": "error",
     "traceback": [
      "\u001b[0;36m  Cell \u001b[0;32mIn[8], line 1\u001b[0;36m\u001b[0m\n\u001b[0;31m    2. Stacked Bidirectional LSTMs with Recurrent Dropout and L2 Regularization\u001b[0m\n\u001b[0m       ^\u001b[0m\n\u001b[0;31mSyntaxError\u001b[0m\u001b[0;31m:\u001b[0m invalid syntax\n"
     ]
    }
   ],
   "source": [
    "from tensorflow.keras.models import Sequential\n",
    "from tensorflow.keras.layers import Masking, Bidirectional, LSTM, Dropout, Dense\n",
    "from tensorflow.keras.regularizers import l2\n",
    "\n",
    "# Model definition\n",
    "model1 = Sequential([\n",
    "    Masking(mask_value=-1, input_shape=(X.shape[1], X.shape[2])),\n",
    "    Bidirectional(LSTM(128, return_sequences=True, recurrent_dropout=0.2)),  # First LSTM layer\n",
    "    Bidirectional(LSTM(64, return_sequences=False, recurrent_dropout=0.2)), # Second LSTM layer\n",
    "    Dropout(0.3),  # Dropout after LSTM\n",
    "    Dense(64, activation='relu', kernel_regularizer=l2(0.01)),  # L2 regularization\n",
    "    Dropout(0.3),  # Additional dropout for regularization\n",
    "    Dense(y.shape[1], activation='softmax', kernel_regularizer=l2(0.01))  # Output layer\n",
    "])\n",
    "\n",
    "# Compile the model\n",
    "model1.compile(\n",
    "    optimizer='adam',\n",
    "    loss='categorical_crossentropy',\n",
    "    metrics=['accuracy']\n",
    ")\n",
    "\n",
    "# View summary\n",
    "model1.summary()"
   ]
  },
  {
   "cell_type": "markdown",
   "metadata": {},
   "source": [
    "3. LSTM with Attention Mechanism and Learning Rate Scheduler\n",
    "\n",
    "This model uses:\n",
    "\t•\tAttention mechanism to focus on the most important timesteps in the sequence.\n",
    "\t•\tLearning rate scheduler to dynamically adjust the learning rate during training for better convergence.\n",
    "\t•\tA single LSTM layer with recurrent dropout and dense layers for classification."
   ]
  },
  {
   "cell_type": "code",
   "execution_count": null,
   "metadata": {},
   "outputs": [],
   "source": [
    "from tensorflow.keras.models import Sequential\n",
    "from tensorflow.keras.layers import Masking, LSTM, Dropout, Dense, Attention, Input\n",
    "from tensorflow.keras.models import Model\n",
    "from tensorflow.keras.optimizers import Adam\n",
    "from tensorflow.keras.callbacks import ReduceLROnPlateau\n",
    "\n",
    "# Define the model with Attention\n",
    "input_layer = Input(shape=(X.shape[1], X.shape[2]))\n",
    "masked_input = Masking(mask_value=-1)(input_layer)\n",
    "lstm_output = LSTM(128, return_sequences=True, recurrent_dropout=0.2)(masked_input)\n",
    "attention_output = Attention()([lstm_output, lstm_output])  # Self-attention\n",
    "flatten = Dense(64, activation='relu')(attention_output)\n",
    "dropout = Dropout(0.3)(flatten)\n",
    "output_layer = Dense(y.shape[1], activation='softmax')(dropout)\n",
    "\n",
    "model2 = Model(inputs=input_layer, outputs=output_layer)\n",
    "\n",
    "# Compile the model\n",
    "model2.compile(\n",
    "    optimizer=Adam(learning_rate=0.001),\n",
    "    loss='categorical_crossentropy',\n",
    "    metrics=['accuracy']\n",
    ")\n",
    "\n",
    "# Learning rate scheduler\n",
    "reduce_lr = ReduceLROnPlateau(monitor='val_loss', factor=0.5, patience=5, min_lr=1e-5)\n",
    "\n",
    "# View summary\n",
    "model2.summary()"
   ]
  }
 ],
 "metadata": {
  "kernelspec": {
   "display_name": "Python 3.12.2 64-bit",
   "language": "python",
   "name": "python3"
  },
  "language_info": {
   "codemirror_mode": {
    "name": "ipython",
    "version": 3
   },
   "file_extension": ".py",
   "mimetype": "text/x-python",
   "name": "python",
   "nbconvert_exporter": "python",
   "pygments_lexer": "ipython3",
   "version": "3.11.5"
  },
  "vscode": {
   "interpreter": {
    "hash": "aee8b7b246df8f9039afb4144a1f6fd8d2ca17a180786b69acc140d282b71a49"
   }
  }
 },
 "nbformat": 4,
 "nbformat_minor": 2
}
