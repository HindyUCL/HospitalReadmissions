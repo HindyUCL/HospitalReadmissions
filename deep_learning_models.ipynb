{
 "cells": [
  {
   "cell_type": "markdown",
   "metadata": {},
   "source": [
    "### LSTM NN "
   ]
  },
  {
   "cell_type": "markdown",
   "metadata": {},
   "source": [
    "In this notebook, we implement LSTM Neural Network for our classification task, seeing whether it is capable of outperforming our traditional ML models (Random Forest, XGBoost, etc.).\n",
    "Our motivation for testing such type of model comes from its ability to capture long-term dependencies in time series data, which is a key feature of our dataset. Additionally, a large amount of papers read on the topic where aimig at assessing whether LSTM models would perform better than traditional ML models. These papers had opposing conclusions. In order to discernate, we will conduct the experiment ourselves. \n",
    "\n",
    "\"\"\""
   ]
  },
  {
   "cell_type": "code",
   "execution_count": 1,
   "metadata": {},
   "outputs": [
    {
     "name": "stdout",
     "output_type": "stream",
     "text": [
      "Num GPUs Available:  1\n"
     ]
    }
   ],
   "source": [
    "import pandas as pd\n",
    "import numpy as np\n",
    "import tensorflow as tf\n",
    "from tensorflow.keras.models import Sequential\n",
    "from tensorflow.keras.layers import LSTM, Dense, Dropout, Masking\n",
    "from tensorflow.keras.callbacks import EarlyStopping\n",
    "\n",
    "# Enable MPS acceleration for Apple Silicon\n",
    "tf.config.set_visible_devices([], 'GPU')  # To ensure it uses the MPS backend\n",
    "print(\"Num GPUs Available: \", len(tf.config.experimental.list_physical_devices('GPU')))"
   ]
  },
  {
   "cell_type": "markdown",
   "metadata": {},
   "source": [
    "### Import the data and Prepare the data"
   ]
  },
  {
   "cell_type": "code",
   "execution_count": 4,
   "metadata": {},
   "outputs": [],
   "source": [
    "import pandas as pd\n",
    "\n",
    "# Load the training and test datasets\n",
    "df_train_seq = pd.read_csv('df_train_seq.csv')\n",
    "df_test_seq = pd.read_csv('df_test_seq.csv')\n",
    "\n",
    "display(df_train_seq.head(), df_test_seq.head())"
   ]
  },
  {
   "cell_type": "code",
   "execution_count": 19,
   "metadata": {},
   "outputs": [
    {
     "name": "stdout",
     "output_type": "stream",
     "text": [
      "Columns with missing values and their counts:\n",
      "Series([], dtype: int64)\n"
     ]
    }
   ],
   "source": [
    "# Check for missing values in the entire dataset\n",
    "missing_values = df_train_temp.isnull().sum()\n",
    "\n",
    "# Display columns with missing values\n",
    "missing_values = missing_values[missing_values > 0]\n",
    "\n",
    "print(\"Columns with missing values and their counts:\")\n",
    "print(missing_values)"
   ]
  },
  {
   "cell_type": "code",
   "execution_count": 20,
   "metadata": {},
   "outputs": [
    {
     "name": "stdout",
     "output_type": "stream",
     "text": [
      "Shape of X (input sequences): (25657, 38, 68)\n",
      "Shape of Y (targets): (25657,)\n",
      "Unique values in Y (targets): [0 1 2]\n"
     ]
    }
   ],
   "source": [
    "import numpy as np\n",
    "import pandas as pd\n",
    "from tensorflow.keras.preprocessing.sequence import pad_sequences\n",
    "\n",
    "# Assuming 'df_train_temp' is your training dataset\n",
    "# Sort the data by Patient_ID and Timestamp\n",
    "df_train_temp = df_train_temp.sort_values(by=['patient_nbr', 'timestep']).reset_index(drop=True)\n",
    "\n",
    "# Identify temporal and feature columns\n",
    "temporal_columns = ['patient_nbr', 'timestep']  # Adjust if necessary\n",
    "target_column = 'encoded_readmitted'  # Replace with the actual target column name\n",
    "feature_columns = df_train_temp.columns.difference(temporal_columns + [target_column])\n",
    "\n",
    "# Initialize lists for sequences\n",
    "X = []  # Input sequences\n",
    "Y = []  # Targets (readmission status)\n",
    "\n",
    "# Group by Patient_ID and process each patient's data\n",
    "grouped = df_train_temp.groupby('patient_nbr')\n",
    "\n",
    "for _, group in grouped:\n",
    "    features = group[feature_columns].values  # Extract feature values for the group\n",
    "    targets = group[target_column].values     # Extract target values for the group\n",
    "    num_timesteps = len(features)\n",
    "    \n",
    "    # Create sequences with varying lengths\n",
    "    for i in range(num_timesteps - 1):  # Leave the last row for Y\n",
    "        X.append(features[:i+1])  # Sequence up to the current timestep\n",
    "        Y.append(targets[i+1])    # The target for the next timestep\n",
    "\n",
    "# Pad sequences to the same length for LSTM input\n",
    "max_sequence_length = max(len(seq) for seq in X)  # Determine the maximum sequence length\n",
    "X_padded = pad_sequences(X, maxlen=max_sequence_length, dtype='float32', padding='post')\n",
    "\n",
    "# Convert Y to numpy array\n",
    "Y = np.array(Y)\n",
    "\n",
    "# Verify target values are as expected (0, 1, 2)\n",
    "unique_targets = np.unique(Y)\n",
    "if not set(unique_targets).issubset({0, 1, 2}):\n",
    "    raise ValueError(f\"Target column contains invalid values: {unique_targets}. Expected values: 0, 1, 2.\")\n",
    "\n",
    "# Display shapes\n",
    "print(\"Shape of X (input sequences):\", X_padded.shape)\n",
    "print(\"Shape of Y (targets):\", Y.shape)\n",
    "print(\"Unique values in Y (targets):\", unique_targets)"
   ]
  },
  {
   "cell_type": "code",
   "execution_count": 21,
   "metadata": {},
   "outputs": [
    {
     "name": "stdout",
     "output_type": "stream",
     "text": [
      "        PC1      PC10      PC11      PC12      PC13      PC14      PC15  \\\n",
      "0 -3.027153 -2.913113  0.251883  1.694339 -1.445468  0.485138 -0.165697   \n",
      "\n",
      "       PC16      PC17      PC18  ...      PC62     PC63      PC64      PC65  \\\n",
      "0  0.043625  0.872321 -1.617301  ... -0.124102 -0.69377  0.199841 -0.222269   \n",
      "\n",
      "      PC66      PC67       PC7       PC8       PC9  encounter_id  \n",
      "0 -1.88178  0.222144  0.597786 -1.038842  0.253654      24437208  \n",
      "\n",
      "[1 rows x 68 columns]\n",
      "0    0\n",
      "Name: encoded_readmitted, dtype: int64\n"
     ]
    }
   ],
   "source": [
    "# Example: Inspect sequences for a specific patient\n",
    "patient_id = df_train_temp['patient_nbr'].iloc[0]  # Take the first patient\n",
    "group = df_train_temp[df_train_temp['patient_nbr'] == patient_id]\n",
    "\n",
    "# Check the sequences created for this patient\n",
    "print(group[feature_columns])\n",
    "print(group[target_column])"
   ]
  },
  {
   "cell_type": "code",
   "execution_count": 22,
   "metadata": {},
   "outputs": [
    {
     "name": "stdout",
     "output_type": "stream",
     "text": [
      "Training set shape: (21808, 38, 68), (21808,)\n",
      "Testing set shape: (3849, 38, 68), (3849,)\n"
     ]
    }
   ],
   "source": [
    "from sklearn.model_selection import train_test_split\n",
    "\n",
    "# X_test and T_test are in reality the validation set\n",
    "X_train, X_validation, Y_train, Y_validation = train_test_split(X_padded, Y, test_size=0.15, random_state=42)\n",
    "\n",
    "print(f\"Training set shape: {X_train.shape}, {Y_train.shape}\")\n",
    "print(f\"Testing set shape: {X_validation.shape}, {Y_validation.shape}\")"
   ]
  },
  {
   "cell_type": "code",
   "execution_count": 23,
   "metadata": {},
   "outputs": [
    {
     "name": "stdout",
     "output_type": "stream",
     "text": [
      "Shape of Y_train_encoded: (21808, 3)\n",
      "Shape of Y_test_encoded: (3849, 3)\n"
     ]
    }
   ],
   "source": [
    "from tensorflow.keras.utils import to_categorical\n",
    "\n",
    "# One-hot encode the target labels 0,1,2 (there was no need to label encode the strings values of the classes)\n",
    "Y_train_encoded = to_categorical(Y_train, num_classes=3)\n",
    "Y_test_encoded = to_categorical(Y_validation, num_classes=3)\n",
    "\n",
    "print(\"Shape of Y_train_encoded:\", Y_train_encoded.shape)\n",
    "print(\"Shape of Y_test_encoded:\", Y_test_encoded.shape)"
   ]
  },
  {
   "cell_type": "code",
   "execution_count": 24,
   "metadata": {},
   "outputs": [
    {
     "name": "stdout",
     "output_type": "stream",
     "text": [
      "Model: \"sequential_1\"\n",
      "_________________________________________________________________\n",
      " Layer (type)                Output Shape              Param #   \n",
      "=================================================================\n",
      " lstm_1 (LSTM)               (None, 50)                23800     \n",
      "                                                                 \n",
      " dropout_1 (Dropout)         (None, 50)                0         \n",
      "                                                                 \n",
      " dense_2 (Dense)             (None, 50)                2550      \n",
      "                                                                 \n",
      " dense_3 (Dense)             (None, 3)                 153       \n",
      "                                                                 \n",
      "=================================================================\n",
      "Total params: 26503 (103.53 KB)\n",
      "Trainable params: 26503 (103.53 KB)\n",
      "Non-trainable params: 0 (0.00 Byte)\n",
      "_________________________________________________________________\n",
      "None\n"
     ]
    }
   ],
   "source": [
    "from tensorflow.keras.models import Sequential\n",
    "from tensorflow.keras.layers import LSTM, Dense, Dropout\n",
    "\n",
    "# Define the LSTM model\n",
    "model = Sequential()\n",
    "model.add(LSTM(50, input_shape=(X_train.shape[1], X_train.shape[2]), return_sequences=False))\n",
    "model.add(Dropout(0.2))  # Dropout to reduce overfitting\n",
    "model.add(Dense(50, activation='relu'))\n",
    "model.add(Dense(3, activation='softmax'))  # 3 classes (0, 1, 2)\n",
    "\n",
    "# Compile the model\n",
    "model.compile(optimizer='adam', loss='categorical_crossentropy', metrics=['accuracy'])\n",
    "\n",
    "print(model.summary())"
   ]
  },
  {
   "cell_type": "code",
   "execution_count": 38,
   "metadata": {},
   "outputs": [
    {
     "name": "stdout",
     "output_type": "stream",
     "text": [
      "Model: \"sequential_4\"\n",
      "_________________________________________________________________\n",
      " Layer (type)                Output Shape              Param #   \n",
      "=================================================================\n",
      " bidirectional (Bidirection  (None, 38, 200)           135200    \n",
      " al)                                                             \n",
      "                                                                 \n",
      " dropout_6 (Dropout)         (None, 38, 200)           0         \n",
      "                                                                 \n",
      " bidirectional_1 (Bidirecti  (None, 100)               100400    \n",
      " onal)                                                           \n",
      "                                                                 \n",
      " dropout_7 (Dropout)         (None, 100)               0         \n",
      "                                                                 \n",
      " dense_8 (Dense)             (None, 50)                5050      \n",
      "                                                                 \n",
      " dense_9 (Dense)             (None, 3)                 153       \n",
      "                                                                 \n",
      "=================================================================\n",
      "Total params: 240803 (940.64 KB)\n",
      "Trainable params: 240803 (940.64 KB)\n",
      "Non-trainable params: 0 (0.00 Byte)\n",
      "_________________________________________________________________\n",
      "None\n"
     ]
    }
   ],
   "source": [
    "from tensorflow.keras.layers import Bidirectional\n",
    "\n",
    "model2 = Sequential()\n",
    "model2.add(Bidirectional(LSTM(100, return_sequences=True), input_shape=(X_train.shape[1], X_train.shape[2])))\n",
    "model2.add(Dropout(0.2))\n",
    "model2.add(Bidirectional(LSTM(50, return_sequences=False)))\n",
    "model2.add(Dropout(0.2))\n",
    "model2.add(Dense(50, activation='relu'))\n",
    "model2.add(Dense(3, activation='softmax'))\n",
    "# Compile the model\n",
    "model2.compile(optimizer='adam', loss='categorical_crossentropy', metrics=['accuracy'])\n",
    "\n",
    "print(model2.summary())"
   ]
  },
  {
   "cell_type": "code",
   "execution_count": 30,
   "metadata": {},
   "outputs": [
    {
     "name": "stdout",
     "output_type": "stream",
     "text": [
      "Epoch 1/10\n",
      "682/682 [==============================] - 4s 6ms/step - loss: 1.0134 - accuracy: 0.4595 - val_loss: 1.0250 - val_accuracy: 0.4513\n",
      "Epoch 2/10\n",
      "682/682 [==============================] - 4s 6ms/step - loss: 1.0133 - accuracy: 0.4604 - val_loss: 1.0240 - val_accuracy: 0.4515\n",
      "Epoch 3/10\n",
      "682/682 [==============================] - 4s 6ms/step - loss: 1.0130 - accuracy: 0.4596 - val_loss: 1.0245 - val_accuracy: 0.4513\n",
      "Epoch 4/10\n",
      "682/682 [==============================] - 4s 6ms/step - loss: 1.0128 - accuracy: 0.4585 - val_loss: 1.0283 - val_accuracy: 0.4297\n",
      "Epoch 5/10\n",
      "682/682 [==============================] - 4s 6ms/step - loss: 1.0134 - accuracy: 0.4584 - val_loss: 1.0249 - val_accuracy: 0.4515\n",
      "Epoch 6/10\n",
      "682/682 [==============================] - 4s 6ms/step - loss: 1.0129 - accuracy: 0.4593 - val_loss: 1.0260 - val_accuracy: 0.4505\n",
      "Epoch 7/10\n",
      "682/682 [==============================] - 4s 6ms/step - loss: 1.0130 - accuracy: 0.4600 - val_loss: 1.0238 - val_accuracy: 0.4510\n",
      "Epoch 8/10\n",
      "682/682 [==============================] - 4s 6ms/step - loss: 1.0131 - accuracy: 0.4596 - val_loss: 1.0254 - val_accuracy: 0.4513\n",
      "Epoch 9/10\n",
      "682/682 [==============================] - 4s 6ms/step - loss: 1.0127 - accuracy: 0.4600 - val_loss: 1.0242 - val_accuracy: 0.4505\n",
      "Epoch 10/10\n",
      "682/682 [==============================] - 4s 6ms/step - loss: 1.0131 - accuracy: 0.4598 - val_loss: 1.0252 - val_accuracy: 0.4515\n"
     ]
    }
   ],
   "source": [
    "history = model.fit(X_train, Y_train_encoded, \n",
    "                    validation_data=(X_validation, Y_test_encoded), \n",
    "                    epochs=10, #try run it for 100, or 1000 epochs\n",
    "                    batch_size=32, \n",
    "                    verbose=1)"
   ]
  },
  {
   "cell_type": "code",
   "execution_count": 40,
   "metadata": {},
   "outputs": [
    {
     "name": "stdout",
     "output_type": "stream",
     "text": [
      "Epoch 1/10\n",
      "682/682 [==============================] - 24s 36ms/step - loss: 1.0145 - accuracy: 0.4559 - val_loss: 1.0242 - val_accuracy: 0.4523\n",
      "Epoch 2/10\n",
      "682/682 [==============================] - 22s 33ms/step - loss: 1.0141 - accuracy: 0.4568 - val_loss: 1.0251 - val_accuracy: 0.4518\n",
      "Epoch 3/10\n",
      "682/682 [==============================] - 24s 35ms/step - loss: 1.0144 - accuracy: 0.4576 - val_loss: 1.0231 - val_accuracy: 0.4515\n",
      "Epoch 4/10\n",
      "682/682 [==============================] - 25s 37ms/step - loss: 1.0143 - accuracy: 0.4588 - val_loss: 1.0226 - val_accuracy: 0.4521\n",
      "Epoch 5/10\n",
      "682/682 [==============================] - 23s 34ms/step - loss: 1.0137 - accuracy: 0.4562 - val_loss: 1.0238 - val_accuracy: 0.4513\n",
      "Epoch 6/10\n",
      "682/682 [==============================] - 21s 31ms/step - loss: 1.0141 - accuracy: 0.4584 - val_loss: 1.0231 - val_accuracy: 0.4518\n",
      "Epoch 7/10\n",
      "682/682 [==============================] - 21s 31ms/step - loss: 1.0136 - accuracy: 0.4586 - val_loss: 1.0219 - val_accuracy: 0.4518\n",
      "Epoch 8/10\n",
      "682/682 [==============================] - 22s 32ms/step - loss: 1.0139 - accuracy: 0.4609 - val_loss: 1.0270 - val_accuracy: 0.4518\n",
      "Epoch 9/10\n",
      "682/682 [==============================] - 22s 33ms/step - loss: 1.0132 - accuracy: 0.4581 - val_loss: 1.0247 - val_accuracy: 0.4510\n",
      "Epoch 10/10\n",
      "682/682 [==============================] - 22s 32ms/step - loss: 1.0139 - accuracy: 0.4577 - val_loss: 1.0231 - val_accuracy: 0.4523\n"
     ]
    }
   ],
   "source": [
    "history = model2.fit(X_train, Y_train_encoded, \n",
    "                    validation_data=(X_validation, Y_test_encoded), \n",
    "                    epochs=10, #try run it for 100, or 1000 epochs\n",
    "                    batch_size=32, \n",
    "                    verbose=1)"
   ]
  },
  {
   "cell_type": "code",
   "execution_count": 31,
   "metadata": {},
   "outputs": [
    {
     "name": "stdout",
     "output_type": "stream",
     "text": [
      "121/121 [==============================] - 0s 2ms/step - loss: 1.0252 - accuracy: 0.4515\n",
      "Validation Loss: 1.0251882076263428\n",
      "Validation Accuracy: 0.4515458643436432\n"
     ]
    }
   ],
   "source": [
    "loss, accuracy = model.evaluate(X_validation, Y_test_encoded, verbose=1)\n",
    "print(f\"Validation Loss: {loss}\")\n",
    "print(f\"Validation Accuracy: {accuracy}\")"
   ]
  },
  {
   "cell_type": "code",
   "execution_count": 32,
   "metadata": {},
   "outputs": [
    {
     "data": {
      "image/png": "[encoded data removed]",
      "text/plain": [
       "<Figure size 1000x600 with 1 Axes>"
      ]
     },
     "metadata": {},
     "output_type": "display_data"
    },
    {
     "data": {
      "image/png": "[encoded data removed]",
      "text/plain": [
       "<Figure size 1000x600 with 1 Axes>"
      ]
     },
     "metadata": {},
     "output_type": "display_data"
    }
   ],
   "source": [
    "import matplotlib.pyplot as plt\n",
    "\n",
    "# Plot accuracy\n",
    "plt.figure(figsize=(10, 6))\n",
    "plt.plot(history.history['accuracy'], label='Training Accuracy')\n",
    "plt.plot(history.history['val_accuracy'], label='Validation Accuracy')\n",
    "plt.title('Model Accuracy')\n",
    "plt.xlabel('Epochs')\n",
    "plt.ylabel('Accuracy')\n",
    "plt.legend()\n",
    "plt.show()\n",
    "\n",
    "# Plot loss\n",
    "plt.figure(figsize=(10, 6))\n",
    "plt.plot(history.history['loss'], label='Training Loss')\n",
    "plt.plot(history.history['val_loss'], label='Validation Loss')\n",
    "plt.title('Model Loss')\n",
    "plt.xlabel('Epochs')\n",
    "plt.ylabel('Loss')\n",
    "plt.legend()\n",
    "plt.show()"
   ]
  },
  {
   "cell_type": "code",
   "execution_count": 33,
   "metadata": {},
   "outputs": [
    {
     "name": "stdout",
     "output_type": "stream",
     "text": [
      "121/121 [==============================] - 0s 2ms/step\n",
      "Predicted Classes: [2 1 2 2 2 2 1 1 1 1]\n",
      "True Classes: [0 2 2 1 0 1 1 1 1 0]\n",
      "Classification Report:\n",
      "              precision    recall  f1-score   support\n",
      "\n",
      "           0       0.29      0.00      0.01       691\n",
      "           1       0.48      0.46      0.47      1695\n",
      "           2       0.43      0.65      0.52      1463\n",
      "\n",
      "    accuracy                           0.45      3849\n",
      "   macro avg       0.40      0.37      0.33      3849\n",
      "weighted avg       0.43      0.45      0.41      3849\n",
      "\n",
      "Confusion Matrix:\n",
      "[[  2 350 339]\n",
      " [  4 778 913]\n",
      " [  1 504 958]]\n"
     ]
    }
   ],
   "source": [
    "Y_pred = model.predict(X_test)\n",
    "Y_pred_classes = np.argmax(Y_pred, axis=1)  # Convert probabilities to class labels\n",
    "\n",
    "print(\"Predicted Classes:\", Y_pred_classes[:10])\n",
    "print(\"True Classes:\", Y_test[:10])\n",
    "\n",
    "from sklearn.metrics import classification_report, confusion_matrix\n",
    "\n",
    "print(\"Classification Report:\")\n",
    "print(classification_report(Y_test, Y_pred_classes))\n",
    "\n",
    "print(\"Confusion Matrix:\")\n",
    "print(confusion_matrix(Y_test, Y_pred_classes))"
   ]
  },
  {
   "cell_type": "markdown",
   "metadata": {},
   "source": [
    "1. Baseline LSTM model\n"
   ]
  },
  {
   "cell_type": "code",
   "execution_count": null,
   "metadata": {},
   "outputs": [],
   "source": [
    "# # Define LSTM model\n",
    "# model = Sequential([\n",
    "#     Masking(mask_value=-1, input_shape=(X.shape[1], X.shape[2])),  # Handle padded/missing values\n",
    "#     LSTM(128, return_sequences=False),\n",
    "#     Dropout(0.3),\n",
    "#     Dense(64, activation='relu'),\n",
    "#     Dropout(0.3),\n",
    "#     Dense(y.shape[1], activation='softmax')  # Output layer for multi-class classification\n",
    "# ])\n",
    "\n",
    "# # Compile the model\n",
    "# model.compile(\n",
    "#     optimizer='adam',\n",
    "#     loss='categorical_crossentropy',\n",
    "#     metrics=['accuracy']\n",
    "# )\n",
    "\n",
    "# model.summary()"
   ]
  },
  {
   "cell_type": "markdown",
   "metadata": {},
   "source": [
    "Training"
   ]
  },
  {
   "cell_type": "code",
   "execution_count": null,
   "metadata": {},
   "outputs": [],
   "source": [
    "# Split the data into training and validation sets\n",
    "from sklearn.model_selection import train_test_split\n",
    "\n",
    "X_train, X_val, y_train, y_val = train_test_split(X, y, test_size=0.2, random_state=42)\n",
    "\n",
    "# Define early stopping\n",
    "early_stopping = EarlyStopping(\n",
    "    monitor='val_loss', \n",
    "    patience=5, \n",
    "    restore_best_weights=True\n",
    ")\n",
    "\n",
    "# Train the model\n",
    "history = model.fit(\n",
    "    X_train, y_train,\n",
    "    validation_data=(X_val, y_val),\n",
    "    epochs=50,\n",
    "    batch_size=128,\n",
    "    callbacks=[early_stopping]\n",
    ")"
   ]
  },
  {
   "cell_type": "markdown",
   "metadata": {},
   "source": [
    "Evaluation\n",
    "\n"
   ]
  },
  {
   "cell_type": "code",
   "execution_count": null,
   "metadata": {},
   "outputs": [],
   "source": [
    "# Evaluate on validation set\n",
    "val_loss, val_accuracy = model.evaluate(X_val, y_val)\n",
    "print(f\"Validation Loss: {val_loss}\")\n",
    "print(f\"Validation Accuracy: {val_accuracy}\")"
   ]
  },
  {
   "cell_type": "code",
   "execution_count": null,
   "metadata": {},
   "outputs": [],
   "source": [
    "# Save the model\n",
    "model.save('lstm_readmission_model.h5')\n",
    "\n",
    "# Load the model\n",
    "from tensorflow.keras.models import load_model\n",
    "loaded_model = load_model('lstm_readmission_model.h5')"
   ]
  }
 ],
 "metadata": {
  "kernelspec": {
   "display_name": "Python 3.12.2 64-bit",
   "language": "python",
   "name": "python3"
  },
  "language_info": {
   "codemirror_mode": {
    "name": "ipython",
    "version": 3
   },
   "file_extension": ".py",
   "mimetype": "text/x-python",
   "name": "python",
   "nbconvert_exporter": "python",
   "pygments_lexer": "ipython3",
   "version": "3.11.5"
  },
  "vscode": {
   "interpreter": {
    "hash": "aee8b7b246df8f9039afb4144a1f6fd8d2ca17a180786b69acc140d282b71a49"
   }
  }
 },
 "nbformat": 4,
 "nbformat_minor": 2
}
