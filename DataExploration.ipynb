{
 "cells": [
  {
   "cell_type": "code",
   "execution_count": 1,
   "metadata": {},
   "outputs": [],
   "source": [
    "import pandas as pd\n",
    "import numpy as np"
   ]
  },
  {
   "cell_type": "code",
   "execution_count": 6,
   "metadata": {},
   "outputs": [
    {
     "name": "stdout",
     "output_type": "stream",
     "text": [
      "   encounter_id  patient_nbr             race  gender      age weight  \\\n",
      "0        149190     55629189        Caucasian  Female  [10-20)      ?   \n",
      "1         64410     86047875  AfricanAmerican  Female  [20-30)      ?   \n",
      "2        500364     82442376        Caucasian    Male  [30-40)      ?   \n",
      "3         16680     42519267        Caucasian    Male  [40-50)      ?   \n",
      "4         35754     82637451        Caucasian    Male  [50-60)      ?   \n",
      "\n",
      "   admission_type_id  discharge_disposition_id  admission_source_id  \\\n",
      "0                  1                         1                    7   \n",
      "1                  1                         1                    7   \n",
      "2                  1                         1                    7   \n",
      "3                  1                         1                    7   \n",
      "4                  2                         1                    2   \n",
      "\n",
      "   time_in_hospital  ... citoglipton insulin  glyburide-metformin  \\\n",
      "0                 3  ...          No      Up                   No   \n",
      "1                 2  ...          No      No                   No   \n",
      "2                 2  ...          No      Up                   No   \n",
      "3                 1  ...          No  Steady                   No   \n",
      "4                 3  ...          No  Steady                   No   \n",
      "\n",
      "   glipizide-metformin  glimepiride-pioglitazone  metformin-rosiglitazone  \\\n",
      "0                   No                        No                       No   \n",
      "1                   No                        No                       No   \n",
      "2                   No                        No                       No   \n",
      "3                   No                        No                       No   \n",
      "4                   No                        No                       No   \n",
      "\n",
      "   metformin-pioglitazone  change diabetesMed readmitted  \n",
      "0                      No      Ch         Yes        >30  \n",
      "1                      No      No         Yes         NO  \n",
      "2                      No      Ch         Yes         NO  \n",
      "3                      No      Ch         Yes         NO  \n",
      "4                      No      No         Yes        >30  \n",
      "\n",
      "[5 rows x 50 columns]\n",
      "   encounter_id  patient_nbr             race  gender      age weight  \\\n",
      "0       2278392      8222157        Caucasian  Female   [0-10)      ?   \n",
      "1         28236     89869032  AfricanAmerican  Female  [40-50)      ?   \n",
      "2        150006     22864131                ?  Female  [50-60)      ?   \n",
      "3        253380     56480238  AfricanAmerican  Female  [60-70)      ?   \n",
      "4        383430     80588529        Caucasian  Female  [70-80)      ?   \n",
      "\n",
      "   admission_type_id  discharge_disposition_id  admission_source_id  \\\n",
      "0                  6                        25                    1   \n",
      "1                  1                         1                    7   \n",
      "2                  2                         1                    4   \n",
      "3                  1                         1                    7   \n",
      "4                  1                         2                    7   \n",
      "\n",
      "   time_in_hospital  ... citoglipton insulin  glyburide-metformin  \\\n",
      "0                 1  ...          No      No                   No   \n",
      "1                 9  ...          No  Steady                   No   \n",
      "2                 2  ...          No    Down                   No   \n",
      "3                 6  ...          No  Steady                   No   \n",
      "4                 1  ...          No    Down                   No   \n",
      "\n",
      "   glipizide-metformin  glimepiride-pioglitazone  metformin-rosiglitazone  \\\n",
      "0                   No                        No                       No   \n",
      "1                   No                        No                       No   \n",
      "2                   No                        No                       No   \n",
      "3                   No                        No                       No   \n",
      "4                   No                        No                       No   \n",
      "\n",
      "   metformin-pioglitazone  change diabetesMed readmitted  \n",
      "0                      No      No          No         NO  \n",
      "1                      No      No         Yes        >30  \n",
      "2                      No      Ch         Yes         NO  \n",
      "3                      No      Ch         Yes         NO  \n",
      "4                      No      Ch         Yes        >30  \n",
      "\n",
      "[5 rows x 50 columns]\n"
     ]
    }
   ],
   "source": [
    "df_train = pd.read_csv(\"Dataset/diabetic_data_training.csv\")\n",
    "df_test = pd.read_csv('Dataset/diabetic_data_test.csv')\n",
    "\n",
    "print(df_train.head(5))\n",
    "print(df_test.head(5))"
   ]
  },
  {
   "cell_type": "code",
   "execution_count": null,
   "metadata": {},
   "outputs": [],
   "source": []
  }
 ],
 "metadata": {
  "kernelspec": {
   "display_name": "Python 3",
   "language": "python",
   "name": "python3"
  },
  "language_info": {
   "codemirror_mode": {
    "name": "ipython",
    "version": 3
   },
   "file_extension": ".py",
   "mimetype": "text/x-python",
   "name": "python",
   "nbconvert_exporter": "python",
   "pygments_lexer": "ipython3",
   "version": "3.11.7"
  }
 },
 "nbformat": 4,
 "nbformat_minor": 2
}
